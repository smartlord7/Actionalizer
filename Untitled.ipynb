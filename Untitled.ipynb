{
 "cells": [
  {
   "cell_type": "markdown",
   "metadata": {},
   "source": [
    "# Análise e Transformação de Dados\n",
    "#### Licenciatura em Engenharia Informática - Universidade de Coimbra\n",
    "#### 2020/2021\n",
    "\n",
    "## Projeto final\n",
    "\n",
    "### Autores:\n",
    "- João Filipe Guiomar Artur, 2019217853\n",
    "- Samuel Santos Carinhas,\n",
    "- Sancho Amaral Simões, 2019217590"
   ]
  },
  {
   "cell_type": "markdown",
   "metadata": {},
   "source": [
    "## 1. Introdução"
   ]
  },
  {
   "cell_type": "markdown",
   "metadata": {},
   "source": [
    "<div style=\"text-align: justify\">&nbsp;&nbsp;&nbsp;&nbsp;O presente projeto apresenta como finalidade a aplicação de alguns dos conhecimentos adquiridos pelos autores no âmbito da cadeira de <strong>Análise e Transformação de Dados</strong>, nomeadamente a análise de dados originalmente facultados no domínio temporal e a sua posterior transposição para o domínio da frequência / domínio misto (frequência/tempo), com recurso a ferramentas matemáticas como a transformada de Fourier e as suas variantes (DFT, STFT, ...). \n",
    "<br>&nbsp;&nbsp;&nbsp;&nbsp;Para o desenvolvimento deste projeto, foi fornecido um dataset no qual constam valores recolhidos por acelerómetros de smartphones nas três dimensões (x, y e z). Estes valores são provenientes de várias sequências de movimentos executados por um grupo de 30 voluntários. Nas referidas sequências encontram-se movimentos de tipo estático, dinâmico e de transição. A terminologia utilizada para caracterizar os grupos de movimentos é bastante autoxplicativa, como se vê em baixo. \n",
    "    \n",
    "<ul>\n",
    "     <li> \n",
    "         <h5> Dinâmicos </h5>\n",
    "         <ol>\n",
    "             <li> Andando (WALKING) </li>\n",
    "             <li> Subindo Escadas (WALKING_UPSTAIRS) </li>\n",
    "             <li> Descendo Escadas (WALKING_DOWNSTAIRS) </li>\n",
    "         </ol>\n",
    "     </li>\n",
    "     <li> \n",
    "         <h5> Estáticos </h5>\n",
    "         <ol>\n",
    "             <li> Sentado (SITTING) </li>\n",
    "             <li> De pé (STANDING) </li>\n",
    "             <li> Deitado (LAYING) </li>\n",
    "         </ol>\n",
    "     </li>\n",
    "    <li> \n",
    "         <h5> Transição </h5>\n",
    "         <ol>\n",
    "             <li> De pé -> Sentado (STAND_TO_SIT) </li>\n",
    "             <li> Sentado -> De pé (SIT_TO_STAND) </li>\n",
    "             <li> Sentado -> Deitado (SIT_TO_LIE) </li>\n",
    "             <li> Deitado -> Sentado (LIE_TO_SIT) </li>\n",
    "             <li> De pé -> Deitado (STAND_TO_LIE) </li>\n",
    "             <li> Deitado -> De pé (LIE_TO_STAND) </li>\n",
    "         </ol>\n",
    "     </li>  \n",
    "</ul>\n",
    "    \n",
    "&nbsp;&nbsp;&nbsp;&nbsp;\n",
    "</div>"
   ]
  },
  {
   "cell_type": "markdown",
   "metadata": {},
   "source": [
    "## 2. Workspace\n",
    "\n",
    "&nbsp;&nbsp;&nbsp;&nbsp;Para maior legibilidade / facilidade de manutenção de código, foi criado um workspace inicial que contém algumas constantes utilizadas ao longo do desenvolvimento do projeto."
   ]
  },
  {
   "cell_type": "code",
   "execution_count": 7,
   "metadata": {},
   "outputs": [
    {
     "name": "stdout",
     "output_type": "stream",
     "text": [
      "\n"
     ]
    }
   ],
   "source": [
    "% region constants\n",
    "X_AXIS = 1;\n",
    "Y_AXIS = 2;\n",
    "Z_AXIS = 3;\n",
    "DATASETS_DIR = 'datasets';\n",
    "LABELS_PATH = 'labels.txt';\n",
    "COLORS = {'2f4f4f', '7f0000', '008000', '00008b', 'ff8c00', 'ffff00', '00ff00', '00ffff', 'ff00ff', '1e90ff', 'ffe4b5', 'fd4002'};\n",
    "ACTIVITIES = [\"WALK\", \"WALK\\_UP\", \"WALK\\_DOWN\", \"SIT\", \"STAND\", \"LAY\", \"STAND\\_SIT\", \"SIT\\_STAND\", \"SIT\\_LIE\", \"LIE\\_SIT\", \"STAND\\_LIE\", \"LIE\\_STAND\"];\n",
    "FS = 50;\n",
    "THRESHOLD = 0.25;\n",
    "% end region constants"
   ]
  },
  {
   "cell_type": "markdown",
   "metadata": {},
   "source": [
    "## 3. Importação de dados\n",
    "\n",
    "&nbsp;&nbsp;&nbsp;&nbsp; Os datasets fornecidos foram importados através da utilização da função load_datasets"
   ]
  },
  {
   "cell_type": "code",
   "execution_count": 8,
   "metadata": {},
   "outputs": [
    {
     "name": "stdout",
     "output_type": "stream",
     "text": [
      "Created file 'C:\\Users\\smart\\Documents\\GitRepos\\Actionalizer\\load_datasets.m'.\n"
     ]
    }
   ],
   "source": [
    "%%file load_datasets.m\n",
    "\n",
    "function datasets = load_datasets(directory)\n",
    "    dataset_files = dir([directory '/*.txt']);\n",
    "    max_size = 0;\n",
    "    len = length(dataset_files);\n",
    "    \n",
    "    for i = 1:len\n",
    "        current_size = size(dlmread([directory '/' dataset_files(i).name], ' '), 1);\n",
    "        if current_size > max_size\n",
    "            max_size = current_size;\n",
    "        end\n",
    "    end\n",
    "    \n",
    "    datasets = zeros(len, max_size, 3);\n",
    "    \n",
    "    for i = 1:len\n",
    "        dataset = dlmread([directory '/' dataset_files(i).name], ' ');\n",
    "        current_size = size(dataset, 1);   \n",
    "        datasets(i,:,:,:) = [dataset ; NaN(max_size - current_size, 3)];\n",
    "    end\n",
    "end"
   ]
  },
  {
   "cell_type": "code",
   "execution_count": null,
   "metadata": {},
   "outputs": [],
   "source": []
  }
 ],
 "metadata": {
  "kernelspec": {
   "display_name": "Matlab",
   "language": "matlab",
   "name": "matlab"
  },
  "language_info": {
   "codemirror_mode": "octave",
   "file_extension": ".m",
   "help_links": [
    {
     "text": "MetaKernel Magics",
     "url": "https://metakernel.readthedocs.io/en/latest/source/README.html"
    }
   ],
   "mimetype": "text/x-octave",
   "name": "matlab",
   "version": "0.16.11"
  }
 },
 "nbformat": 4,
 "nbformat_minor": 4
}
