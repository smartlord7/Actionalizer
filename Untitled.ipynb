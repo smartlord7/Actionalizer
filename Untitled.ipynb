{
 "cells": [
  {
   "cell_type": "markdown",
   "metadata": {},
   "source": [
    "# Análise e Transformação de Dados\n",
    "#### Licenciatura em Engenharia Informática - Universidade de Coimbra\n",
    "#### 2020/2021\n",
    "\n",
    "## Projeto final\n",
    "\n",
    "### Autores:\n",
    "- João Filipe Guiomar Artur, 2019217853\n",
    "- Samuel Santos Carinhas,\n",
    "- Sancho Amaral Simões, 2019217590"
   ]
  },
  {
   "cell_type": "markdown",
   "metadata": {},
   "source": [
    "## 1. Introdução"
   ]
  },
  {
   "cell_type": "markdown",
   "metadata": {},
   "source": [
    "<div style=\"text-align: justify\">&nbsp;&nbsp;&nbsp;&nbsp;O presente projeto apresenta como finalidade a aplicação de alguns dos conhecimentos adquiridos pelos autores no âmbito da cadeira de <strong>Análise e Transformação de Dados</strong>, nomeadamente a análise de dados originalmente facultados no domínio temporal e a sua posterior transposição para o domínio da frequência / domínio misto (frequência/tempo), com recurso a ferramentas matemáticas como a transformada de Fourier e as suas variantes (DFT, STFT, ...). \n",
    "<br>&nbsp;&nbsp;&nbsp;&nbsp;Para o desenvolvimento deste projeto, foi fornecido um dataset no qual constam valores recolhidos por acelerómetros de smartphones nas três dimensões (x, y e z). Estes valores são provenientes de várias sequências de movimentos executados por um grupo de 30 voluntários. Nas referidas sequências encontram-se movimentos de tipo estático, dinâmico e de transição. A terminologia utilizada para caracterizar os grupos de movimentos é bastante autoxplicativa, como se vê em baixo. \n",
    "    \n",
    "<ul>\n",
    "     <li> \n",
    "         <h5> Dinâmicos </h5>\n",
    "         <ol>\n",
    "             <li> Andando (WALKING) </li>\n",
    "             <li> Subindo Escadas (WALKING_UPSTAIRS) </li>\n",
    "             <li> Descendo Escadas (WALKING_DOWNSTAIRS) </li>\n",
    "         </ol>\n",
    "     </li>\n",
    "     <li> \n",
    "         <h5> Estáticos </h5>\n",
    "         <ol>\n",
    "             <li> Sentado (SITTING) </li>\n",
    "             <li> De pé (STANDING) </li>\n",
    "             <li> Deitado (LAYING) </li>\n",
    "         </ol>\n",
    "     </li>\n",
    "    <li> \n",
    "         <h5> Transição </h5>\n",
    "         <ol>\n",
    "             <li> De pé -> Sentado (STAND_TO_SIT) </li>\n",
    "             <li> Sentado -> De pé (SIT_TO_STAND) </li>\n",
    "             <li> Sentado -> Deitado (SIT_TO_LIE) </li>\n",
    "             <li> Deitado -> Sentado (LIE_TO_SIT) </li>\n",
    "             <li> De pé -> Deitado (STAND_TO_LIE) </li>\n",
    "             <li> Deitado -> De pé (LIE_TO_STAND) </li>\n",
    "         </ol>\n",
    "     </li>  \n",
    "</ul>\n",
    "    \n",
    "&nbsp;&nbsp;&nbsp;&nbsp;\n",
    "</div>"
   ]
  },
  {
   "cell_type": "markdown",
   "metadata": {},
   "source": [
    "## 2. Workspace\n",
    "\n",
    "&nbsp;&nbsp;&nbsp;&nbsp;Para maior legibilidade / facilidade de manutenção de código, foi criado um workspace inicial que contém algumas constantes utilizadas ao longo do desenvolvimento do projeto."
   ]
  },
  {
   "cell_type": "code",
   "execution_count": 7,
   "metadata": {},
   "outputs": [
    {
     "name": "stdout",
     "output_type": "stream",
     "text": [
      "\n"
     ]
    }
   ],
   "source": [
    "% region constants\n",
    "X_AXIS = 1;\n",
    "Y_AXIS = 2;\n",
    "Z_AXIS = 3;\n",
    "DATASETS_DIR = 'datasets';\n",
    "LABELS_PATH = 'labels.txt';\n",
    "COLORS = {'2f4f4f', '7f0000', '008000', '00008b', 'ff8c00', 'ffff00', '00ff00', '00ffff', 'ff00ff', '1e90ff', 'ffe4b5', 'fd4002'};\n",
    "ACTIVITIES = [\"WALK\", \"WALK\\_UP\", \"WALK\\_DOWN\", \"SIT\", \"STAND\", \"LAY\", \"STAND\\_SIT\", \"SIT\\_STAND\", \"SIT\\_LIE\", \"LIE\\_SIT\", \"STAND\\_LIE\", \"LIE\\_STAND\"];\n",
    "FS = 50;\n",
    "THRESHOLD = 0.25;\n",
    "% end region constants"
   ]
  },
  {
   "cell_type": "markdown",
   "metadata": {},
   "source": [
    "## 3. Importação de dados\n",
    "\n",
    "&nbsp;&nbsp;&nbsp;&nbsp; Os datasets fornecidos foram importados através da utilização da função load_datasets. Esta percorre todos os ficheiros .txt no diretório especificado e lê, através da função dlmread, os valores lidos pelos acelerómetros, utilizando como delimitador o espaço."
   ]
  },
  {
   "cell_type": "code",
   "execution_count": 9,
   "metadata": {},
   "outputs": [
    {
     "name": "stdout",
     "output_type": "stream",
     "text": [
      "Created file 'C:\\Users\\smart\\Documents\\GitRepos\\Actionalizer\\load_datasets.m'.\n"
     ]
    }
   ],
   "source": [
    "%%file load_datasets.m\n",
    "\n",
    "function datasets = load_datasets(directory)\n",
    "    dataset_files = dir([directory '/*.txt']);\n",
    "    len = length(dataset_files);\n",
    "    datasets = cell(1, len);\n",
    "    \n",
    "    for i = 1:len\n",
    "        datasets(i) = {dlmread([directory '/' dataset_files(i).name], ' ')};\n",
    "    end\n",
    "end"
   ]
  },
  {
   "cell_type": "code",
   "execution_count": 10,
   "metadata": {},
   "outputs": [
    {
     "name": "stdout",
     "output_type": "stream",
     "text": [
      "\n"
     ]
    }
   ],
   "source": [
    "labels = dlmread(LABELS_PATH, ' ');\n",
    "datasets = load_datasets(DATASETS_DIR);"
   ]
  },
  {
   "cell_type": "markdown",
   "metadata": {},
   "source": [
    "## 4. Representação dos sinais"
   ]
  },
  {
   "cell_type": "code",
   "execution_count": 12,
   "metadata": {},
   "outputs": [
    {
     "name": "stdout",
     "output_type": "stream",
     "text": [
      "Created file 'C:\\Users\\smart\\Documents\\GitRepos\\Actionalizer\\plot_datasets.m'.\n"
     ]
    }
   ],
   "source": [
    "%%file plot_datasets.m\n",
    "\n",
    "function plot_datasets(datasets, fs, act_colors, labels, activities)\n",
    "   len = size(datasets, 1);\n",
    "   label_i = 1;\n",
    "   ts = 1/fs;\n",
    "   \n",
    "   for i = 1:len\n",
    "       dataset = reshape(datasets(i,:,:), size(datasets(i,:,:), 2), size(datasets(i,:,:), 3));\n",
    "       init_label = label_i;\n",
    "       \n",
    "       for k = 1:3\n",
    "           label_i = init_label;\n",
    "           subplot(3, 1, k);\n",
    "           plot(ts/60:ts/60:(length(dataset) * ts)/60, dataset(:, k), 'k');\n",
    "           y_lbl = sprintf('ACC angle - %s (m/s^2)', axis_idx_to_axis_name(k));\n",
    "           ylabel(y_lbl);\n",
    "           \n",
    "           xlabel('Time (min)')\n",
    "           \n",
    "           hold on\n",
    "           \n",
    "           while 1\n",
    "               exp = labels(label_i, 1);\n",
    "\n",
    "               if exp ~= i\n",
    "                    break;\n",
    "               end\n",
    "\n",
    "               user = labels(label_i, 2);\n",
    "               act = labels(label_i, 3);\n",
    "               start = labels(label_i, 4);\n",
    "               finish = labels(label_i, 5);\n",
    "               x = start * ts/60:ts/60:finish * ts/60;\n",
    "               y_point = max(dataset(start:finish, k)) + 0.1;\n",
    "               \n",
    "               plt_title = sprintf('Experience %d, User %d', exp, user);\n",
    "               title(plt_title);\n",
    "               plot(x, dataset(start:finish, k), act_colors(act));\n",
    "               text(start*ts/60, y_point, activities(act),'Fontsize', 7);\n",
    "               label_i = label_i + 1;\n",
    "           end\n",
    "           \n",
    "           hold off;\n",
    "       end\n",
    "       \n",
    "       pause(2);\n",
    "   end\n",
    "end"
   ]
  },
  {
   "cell_type": "code",
   "execution_count": 14,
   "metadata": {},
   "outputs": [
    {
     "name": "stderr",
     "output_type": "stream",
     "text": [
      "\u001b[1;31m\n",
      "  File C:\\Users\\smart\\Documents\\GitRepos\\Actionalizer\\plot_datasets.m, line 15, in plot_datasets\n",
      "Undefined function 'axis_idx_to_axis_name' for input arguments of type 'double'.\n",
      "\n",
      "\u001b[0m"
     ]
    },
    {
     "data": {
      "image/png": "[encoded data removed]",
      "text/plain": [
       "<IPython.core.display.Image object>"
      ]
     },
     "metadata": {},
     "output_type": "display_data"
    },
    {
     "ename": "Error",
     "evalue": -1,
     "output_type": "error",
     "traceback": "\n  File C:\\Users\\smart\\Documents\\GitRepos\\Actionalizer\\plot_datasets.m, line 15, in plot_datasets\nUndefined function 'axis_idx_to_axis_name' for input arguments of type 'double'.\n"
    }
   ],
   "source": [
    "plot_datasets(datasets, FS, labels, ACTIVITIES);"
   ]
  },
  {
   "cell_type": "code",
   "execution_count": null,
   "metadata": {},
   "outputs": [],
   "source": []
  }
 ],
 "metadata": {
  "kernelspec": {
   "display_name": "Matlab",
   "language": "matlab",
   "name": "matlab"
  },
  "language_info": {
   "codemirror_mode": "octave",
   "file_extension": ".m",
   "help_links": [
    {
     "text": "MetaKernel Magics",
     "url": "https://metakernel.readthedocs.io/en/latest/source/README.html"
    }
   ],
   "mimetype": "text/x-octave",
   "name": "matlab",
   "version": "0.16.11"
  }
 },
 "nbformat": 4,
 "nbformat_minor": 4
}
