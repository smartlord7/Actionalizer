{
 "cells": [
  {
   "cell_type": "markdown",
   "metadata": {},
   "source": [
    "# Análise e Transformação de Dados\n",
    "#### Licenciatura em Engenharia Informática - Universidade de Coimbra\n",
    "#### 2020/2021\n",
    "\n",
    "## Projeto final\n",
    "\n",
    "### Autores:\n",
    "- João Filipe Guiomar Artur, 2019217853\n",
    "- Samuel Santos Carinhas,\n",
    "- Sancho Amaral Simões, 2019217590"
   ]
  },
  {
   "cell_type": "markdown",
   "metadata": {},
   "source": [
    "## 1. Introdução"
   ]
  },
  {
   "cell_type": "markdown",
   "metadata": {},
   "source": [
    "<div style=\"text-align: justify\">&nbsp;&nbsp;&nbsp;&nbsp;O presente projeto apresenta como finalidade a aplicação de alguns dos conhecimentos adquiridos pelos autores no âmbito da cadeira de <strong>Análise e Transformação de Dados</strong>, nomeadamente a análise de dados originalmente facultados no domínio temporal e a sua posterior transposição para o domínio da frequência / domínio misto (frequência/tempo), com recurso a ferramentas matemáticas como a transformada de Fourier e as suas variantes (DFT, STFT, ...). \n",
    "<br>&nbsp;&nbsp;&nbsp;&nbsp;Para o desenvolvimento deste projeto, foi fornecido um dataset no qual constam valores recolhidos por acelerómetros de smartphones nas três dimensões (x, y e z). Estes valores são provenientes de várias sequências de movimentos executados por um grupo de 30 voluntários. Nas referidas sequências encontram-se movimentos de tipo estático, dinâmico e de transição. A terminologia utilizada para caracterizar os grupos de movimentos é bastante autoxplicativa, como se vê em baixo. \n",
    "    \n",
    "<ul>\n",
    "     <li> \n",
    "         <h5> Dinâmicos </h5>\n",
    "         <ol>\n",
    "             <li> Andando (WALKING) </li>\n",
    "             <li> Subindo Escadas (WALKING_UPSTAIRS) </li>\n",
    "             <li> Descendo Escadas (WALKING_DOWNSTAIRS) </li>\n",
    "         </ol>\n",
    "     </li>\n",
    "     <li> \n",
    "         <h5> Estáticos </h5>\n",
    "         <ol>\n",
    "             <li> Sentado (SITTING) </li>\n",
    "             <li> De pé (STANDING) </li>\n",
    "             <li> Deitado (LAYING) </li>\n",
    "         </ol>\n",
    "     </li>\n",
    "    <li> \n",
    "         <h5> Transição </h5>\n",
    "         <ol>\n",
    "             <li> De pé -> Sentado (STAND_TO_SIT) </li>\n",
    "             <li> Sentado -> De pé (SIT_TO_STAND) </li>\n",
    "             <li> Sentado -> Deitado (SIT_TO_LIE) </li>\n",
    "             <li> Deitado -> Sentado (LIE_TO_SIT) </li>\n",
    "             <li> De pé -> Deitado (STAND_TO_LIE) </li>\n",
    "             <li> Deitado -> De pé (LIE_TO_STAND) </li>\n",
    "         </ol>\n",
    "     </li>  \n",
    "</ul>\n",
    "    \n",
    "&nbsp;&nbsp;&nbsp;&nbsp;\n",
    "</div>"
   ]
  },
  {
   "cell_type": "markdown",
   "metadata": {},
   "source": [
    "## 2. Workspace\n",
    "\n",
    "&nbsp;&nbsp;&nbsp;&nbsp;Para maior legibilidade / facilidade de manutenção de código, foi criado um workspace inicial que contém algumas constantes utilizadas ao longo do desenvolvimento do projeto."
   ]
  },
  {
   "cell_type": "code",
   "execution_count": 44,
   "metadata": {},
   "outputs": [
    {
     "name": "stdout",
     "output_type": "stream",
     "text": [
      "\n"
     ]
    }
   ],
   "source": [
    "% region dependencies\n",
    "addpath('functions/dft/');\n",
    "addpath('functions/util/');\n",
    "addpath('functions/plotters/');\n",
    "% endregion dependencies\n",
    "\n",
    "% region constants\n",
    "X_AXIS = 1;\n",
    "Y_AXIS = 2;\n",
    "Z_AXIS = 3;\n",
    "DATASETS_DIR = 'resources/txt/datasets';\n",
    "LABELS_PATH = 'resources/txt/labels.txt';\n",
    "COLORS = {'#2f4f4f', '#7f0000', '#008000', '#00008b', '#ff8c00', '#CC3322', '#11ff00', '#00ffff', '#ff00ff', '#1e90ff', '#ffe4b5', '#fd4002'};\n",
    "ACTIVITIES = [\"WALK\", \"WALK\\_UP\", \"WALK\\_DOWN\", \"SIT\", \"STAND\", \"LAY\", \"STAND\\_SIT\", \"SIT\\_STAND\", \"SIT\\_LIE\", \"LIE\\_SIT\", \"STAND\\_LIE\", \"LIE\\_STAND\"];\n",
    "FS = 50;\n",
    "THRESHOLD = 0.25;\n",
    "WINDOW_SIZE = 6;\n",
    "OVERLAP_SIZE = 3;\n",
    "ACT_SIZES = [2000, 2500, 1500];\n",
    "DYNAMIC_ACTIVITIES = [1, 2, 3];\n",
    "% end region constants"
   ]
  },
  {
   "cell_type": "markdown",
   "metadata": {},
   "source": [
    "## 3. Importação de dados\n",
    "\n",
    "&nbsp;&nbsp;&nbsp;&nbsp; Os datasets fornecidos foram importados através da utilização da função load_datasets. Esta percorre todos os ficheiros .txt no diretório especificado e lê, através da função dlmread, os valores lidos pelos acelerómetros, utilizando como delimitador o espaço."
   ]
  },
  {
   "cell_type": "code",
   "execution_count": 9,
   "metadata": {},
   "outputs": [
    {
     "name": "stdout",
     "output_type": "stream",
     "text": [
      "Created file 'C:\\Users\\smart\\Documents\\GitRepos\\Actionalizer\\load_datasets.m'.\n"
     ]
    }
   ],
   "source": [
    "%%file load_datasets.m\n",
    "\n",
    "function datasets = load_datasets(directory)\n",
    "    dataset_files = dir([directory '/*.txt']);\n",
    "    len = length(dataset_files);\n",
    "    datasets = cell(1, len);\n",
    "    \n",
    "    for i = 1:len\n",
    "        datasets(i) = {dlmread([directory '/' dataset_files(i).name], ' ')};\n",
    "    end\n",
    "end"
   ]
  },
  {
   "cell_type": "code",
   "execution_count": 10,
   "metadata": {},
   "outputs": [
    {
     "name": "stdout",
     "output_type": "stream",
     "text": [
      "\n"
     ]
    }
   ],
   "source": [
    "labels = dlmread(LABELS_PATH, ' ');\n",
    "datasets = load_datasets(DATASETS_DIR);"
   ]
  },
  {
   "cell_type": "markdown",
   "metadata": {},
   "source": [
    "## 4. Representação dos sinais"
   ]
  },
  {
   "cell_type": "code",
   "execution_count": 30,
   "metadata": {},
   "outputs": [
    {
     "name": "stdout",
     "output_type": "stream",
     "text": [
      "Created file 'C:\\Users\\smart\\Documents\\GitRepos\\Actionalizer\\plot_datasets.m'.\n"
     ]
    }
   ],
   "source": [
    "%%file plot_datasets.m\n",
    "\n",
    "function plot_datasets(datasets, fs, labels, activities, act_colors)\n",
    "    len = length(datasets);\n",
    "    ts = 1/fs;\n",
    "   \n",
    "    for i = 1:len\n",
    "        figure;\n",
    "        dataset = cell2mat(datasets(i));\n",
    "\n",
    "        indexes = find(labels(:,1) == i);\n",
    "       \n",
    "        exp = i;\n",
    "        \n",
    "        for k = 1:3\n",
    "            y_lbl = sprintf('ACC angle - %s (m/s^2)', get_axis_name(k));\n",
    "            \n",
    "            subplot(3, 1, k);\n",
    "            plot(ts/60:ts/60:(length(dataset) * ts)/60, dataset(:, k), 'k');\n",
    "            ylabel(y_lbl);\n",
    "            xlabel('Time (min)')\n",
    "           \n",
    "            hold on\n",
    "\n",
    "            for j=1:length(indexes)\n",
    "                index = indexes(j);\n",
    "                user = labels(index, 2);\n",
    "                act = labels(index, 3);\n",
    "                start = labels(index, 4);\n",
    "                finish = labels(index, 5);\n",
    "                \n",
    "                x = start * ts/60:ts/60:finish * ts/60;\n",
    "                y_point = mean(dataset(start:finish, k)) + 0.7 * (-1)^index;\n",
    "                color_hex = char(act_colors(act));\n",
    "                color = sscanf(color_hex(2:end),'%2x%2x%2x',[1 3])/255;\n",
    "                \n",
    "                plot(x, dataset(start:finish, k), 'Color', color);\n",
    "                text(start*ts/60, y_point, activities(act),'Fontsize', 7);\n",
    "                plt_title = sprintf('Experience %d, User %d', exp, user);\n",
    "                sgtitle(plt_title);\n",
    "            end\n",
    "\n",
    "            hold off;\n",
    "        end\n",
    "    end\n",
    "end"
   ]
  },
  {
   "cell_type": "markdown",
   "metadata": {},
   "source": [
    "![Title](resources/plots/datasets/dataset1.png)\n",
    "![Title](resources/plots/datasets/dataset2.png)\n",
    "![Title](resources/plots/datasets/dataset3.png)\n",
    "![Title](resources/plots/datasets/dataset4.png)\n",
    "![Title](resources/plots/datasets/dataset5.png)\n",
    "![Title](resources/plots/datasets/dataset6.png)\n",
    "![Title](resources/plots/datasets/dataset7.png)\n",
    "![Title](resources/plots/datasets/dataset8.png)\n"
   ]
  },
  {
   "cell_type": "markdown",
   "metadata": {},
   "source": [
    "## 5. Preparação dos datasets"
   ]
  },
  {
   "cell_type": "code",
   "execution_count": 34,
   "metadata": {},
   "outputs": [
    {
     "name": "stdout",
     "output_type": "stream",
     "text": [
      "Created file 'C:\\Users\\smart\\Documents\\GitRepos\\Actionalizer\\prepare_datasets.m'.\n"
     ]
    }
   ],
   "source": [
    "%%file prepare_datasets.m\n",
    "\n",
    "function [num_act_ocurrences, acts_means, dft_freqs, dft_means] = prepare_datasets(datasets, dim, fs, unif_sizes, labels, activities)\n",
    "   num_act = length(activities);\n",
    "   dft_means = cell(1, num_act);\n",
    "   dft_freqs = cell(1, num_act);\n",
    "   acts_means = cell(1, num_act);\n",
    "   num_act_ocurrences = zeros(1, num_act);\n",
    "   min_act_size = zeros(1, num_act);\n",
    "   dyn_act_size = unif_sizes(1);\n",
    "   static_act_size = unif_sizes(2);\n",
    "   transition_act_size = unif_sizes(3);\n",
    "    \n",
    "   len = length(datasets);\n",
    "   \n",
    "   for i = 1:len\n",
    "       dataset = cell2mat(datasets(i));\n",
    "       \n",
    "       indexes = find(labels(:, 1) == i);\n",
    "           \n",
    "       for j=1:length(indexes)\n",
    "           index = indexes(j);\n",
    "           act = labels(index, 3);\n",
    "           start = labels(index, 4);\n",
    "           finish = labels(index, 5);\n",
    "\n",
    "           act_frag = dataset(start:finish, dim);\n",
    "\n",
    "           num_act_ocurrences(act) = num_act_ocurrences(act) + 1;\n",
    "           l = size(act_frag, 1);\n",
    "           \n",
    "           if l < min_act_size(act) || min_act_size(act) == 0 \n",
    "               min_act_size(act) = l;\n",
    "           end\n",
    "\n",
    "           if act < 4\n",
    "               act_padded = [act_frag ; zeros(dyn_act_size - l, 1)];\n",
    "           elseif act < 6\n",
    "               act_padded = [act_frag ; zeros(static_act_size - l, 1)];    \n",
    "           else\n",
    "               act_padded = [act_frag ; zeros(transition_act_size - l, 1)];\n",
    "           end          \n",
    "\n",
    "           [f, m_x] = calc_dft(act_padded, fs, start - finish);\n",
    "\n",
    "           if num_act_ocurrences(act) == 1\n",
    "               acts_means(act) = {act_padded};\n",
    "               dft_freqs(act) = {f(1:end - 1)};\n",
    "               dft_means(act) = {m_x};\n",
    "           else\n",
    "               acts_means(act) = {cell2mat(acts_means(act)) + act_padded};\n",
    "               dft_means(act) = {cell2mat(dft_means(act)) + m_x};   \n",
    "           end\n",
    "       end\n",
    "  \n",
    "   end\n",
    "   \n",
    "   for i = 1:length(activities)\n",
    "       dft_means(i) = {cell2mat(dft_means(i)) / num_act_ocurrences(i)};\n",
    "       values = cell2mat(acts_means(i));\n",
    "       acts_means(i) = {values / num_act_ocurrences(i)};\n",
    "       acts_means(i) = {values(1:min_act_size(i))};\n",
    "   end\n",
    "end"
   ]
  },
  {
   "cell_type": "code",
   "execution_count": 35,
   "metadata": {},
   "outputs": [
    {
     "name": "stdout",
     "output_type": "stream",
     "text": [
      "\n"
     ]
    }
   ],
   "source": [
    "[num_act_ocurrences, meaned_acts_x, freqs_x, dfts_x] = prepare_datasets(datasets, X_AXIS, FS, ACT_SIZES, labels, ACTIVITIES);\n",
    "[~, meaned_acts_y, freqs_y, dfts_y] = prepare_datasets(datasets, Y_AXIS, FS, ACT_SIZES, labels, ACTIVITIES);\n",
    "[~, meaned_acts_z, freqs_z, dfts_z] = prepare_datasets(datasets, Z_AXIS, FS, ACT_SIZES, labels, ACTIVITIES);"
   ]
  },
  {
   "cell_type": "markdown",
   "metadata": {},
   "source": [
    "## 6. Seleção da janela deslizante"
   ]
  },
  {
   "cell_type": "code",
   "execution_count": 51,
   "metadata": {},
   "outputs": [
    {
     "name": "stdout",
     "output_type": "stream",
     "text": [
      "Created file 'C:\\Users\\smart\\Documents\\GitRepos\\Actionalizer\\plot_window.m'.\n"
     ]
    }
   ],
   "source": [
    "%%file plot_window.m\n",
    "\n",
    "function plot_window(win_func, win_size, win_name)\n",
    "    win = win_func(win_size);\n",
    "    \n",
    "    figure;\n",
    "    \n",
    "    plot(1:win_size, win);\n",
    "    title(win_name);\n",
    "    xlabel('N')\n",
    "    ylabel('W(N)');\n",
    "end"
   ]
  },
  {
   "cell_type": "code",
   "execution_count": null,
   "metadata": {},
   "outputs": [],
   "source": [
    "plot_datasets(datasets, FS, labels, ACTIVITIES, COLORS);"
   ]
  },
  {
   "cell_type": "code",
   "execution_count": 55,
   "metadata": {},
   "outputs": [
    {
     "name": "stdout",
     "output_type": "stream",
     "text": [
      "\n"
     ]
    },
    {
     "data": {
      "image/png": "[encoded data removed]",
      "text/plain": [
       "<IPython.core.display.Image object>"
      ]
     },
     "metadata": {},
     "output_type": "display_data"
    },
    {
     "data": {
      "image/png": "[encoded data removed]",
      "text/plain": [
       "<IPython.core.display.Image object>"
      ]
     },
     "metadata": {},
     "output_type": "display_data"
    },
    {
     "data": {
      "image/png": "[encoded data removed]",
      "text/plain": [
       "<IPython.core.display.Image object>"
      ]
     },
     "metadata": {},
     "output_type": "display_data"
    },
    {
     "data": {
      "image/png": "[encoded data removed]",
      "text/plain": [
       "<IPython.core.display.Image object>"
      ]
     },
     "metadata": {},
     "output_type": "display_data"
    }
   ],
   "source": [
    "plot_window(@hamming, WINDOW_SIZE * FS, 'Hamming window');\n",
    "plot_window(@rectwin, WINDOW_SIZE * FS, 'Rectangular window');\n",
    "plot_window(@blackman, WINDOW_SIZE * FS, 'Blackman window');\n",
    "plot_window(@hann, WINDOW_SIZE * FS, 'Hann window');"
   ]
  },
  {
   "cell_type": "code",
   "execution_count": null,
   "metadata": {},
   "outputs": [],
   "source": []
  }
 ],
 "metadata": {
  "kernelspec": {
   "display_name": "Matlab",
   "language": "matlab",
   "name": "matlab"
  },
  "language_info": {
   "codemirror_mode": "octave",
   "file_extension": ".m",
   "help_links": [
    {
     "text": "MetaKernel Magics",
     "url": "https://metakernel.readthedocs.io/en/latest/source/README.html"
    }
   ],
   "mimetype": "text/x-octave",
   "name": "matlab",
   "version": "0.16.11"
  }
 },
 "nbformat": 4,
 "nbformat_minor": 4
}
